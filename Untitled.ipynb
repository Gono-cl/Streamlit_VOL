{
 "cells": [
  {
   "cell_type": "code",
   "execution_count": 3,
   "id": "435b5f67-e6f6-4a49-a63e-41f4335f238b",
   "metadata": {},
   "outputs": [],
   "source": [
    "import streamlit as st"
   ]
  },
  {
   "cell_type": "code",
   "execution_count": 1,
   "id": "b47cc34e-327d-40cc-8a24-524767017c66",
   "metadata": {},
   "outputs": [
    {
     "name": "stdout",
     "output_type": "stream",
     "text": [
      "Collecting altair\n",
      "  Downloading altair-5.5.0-py3-none-any.whl.metadata (11 kB)\n",
      "Requirement already satisfied: jinja2 in c:\\users\\labvision\\anaconda311\\envs\\streamlitvol\\lib\\site-packages (from altair) (3.1.6)\n",
      "Requirement already satisfied: jsonschema>=3.0 in c:\\users\\labvision\\anaconda311\\envs\\streamlitvol\\lib\\site-packages (from altair) (4.23.0)\n",
      "Collecting narwhals>=1.14.2 (from altair)\n",
      "  Downloading narwhals-1.33.0-py3-none-any.whl.metadata (9.2 kB)\n",
      "Requirement already satisfied: packaging in c:\\users\\labvision\\anaconda311\\envs\\streamlitvol\\lib\\site-packages (from altair) (24.2)\n",
      "Requirement already satisfied: typing-extensions>=4.10.0 in c:\\users\\labvision\\anaconda311\\envs\\streamlitvol\\lib\\site-packages (from altair) (4.12.2)\n",
      "Requirement already satisfied: attrs>=22.2.0 in c:\\users\\labvision\\anaconda311\\envs\\streamlitvol\\lib\\site-packages (from jsonschema>=3.0->altair) (24.3.0)\n",
      "Requirement already satisfied: jsonschema-specifications>=2023.03.6 in c:\\users\\labvision\\anaconda311\\envs\\streamlitvol\\lib\\site-packages (from jsonschema>=3.0->altair) (2023.7.1)\n",
      "Requirement already satisfied: referencing>=0.28.4 in c:\\users\\labvision\\anaconda311\\envs\\streamlitvol\\lib\\site-packages (from jsonschema>=3.0->altair) (0.30.2)\n",
      "Requirement already satisfied: rpds-py>=0.7.1 in c:\\users\\labvision\\anaconda311\\envs\\streamlitvol\\lib\\site-packages (from jsonschema>=3.0->altair) (0.22.3)\n",
      "Requirement already satisfied: MarkupSafe>=2.0 in c:\\users\\labvision\\anaconda311\\envs\\streamlitvol\\lib\\site-packages (from jinja2->altair) (3.0.2)\n",
      "Downloading altair-5.5.0-py3-none-any.whl (731 kB)\n",
      "   ---------------------------------------- 0.0/731.2 kB ? eta -:--:--\n",
      "   ---------------------------------------- 731.2/731.2 kB 6.0 MB/s eta 0:00:00\n",
      "Downloading narwhals-1.33.0-py3-none-any.whl (322 kB)\n",
      "Installing collected packages: narwhals, altair\n",
      "Successfully installed altair-5.5.0 narwhals-1.33.0\n",
      "Note: you may need to restart the kernel to use updated packages.\n"
     ]
    }
   ],
   "source": [
    "pip install altair"
   ]
  },
  {
   "cell_type": "code",
   "execution_count": 2,
   "id": "7b703f25-8eae-447d-976e-04700ef941a2",
   "metadata": {},
   "outputs": [
    {
     "name": "stdout",
     "output_type": "stream",
     "text": [
      "Collecting scikit-optimize\n",
      "  Using cached scikit_optimize-0.10.2-py2.py3-none-any.whl.metadata (9.7 kB)\n",
      "Collecting joblib>=0.11 (from scikit-optimize)\n",
      "  Downloading joblib-1.4.2-py3-none-any.whl.metadata (5.4 kB)\n",
      "Collecting pyaml>=16.9 (from scikit-optimize)\n",
      "  Using cached pyaml-25.1.0-py3-none-any.whl.metadata (12 kB)\n",
      "Collecting numpy>=1.20.3 (from scikit-optimize)\n",
      "  Downloading numpy-2.2.4-cp312-cp312-win_amd64.whl.metadata (60 kB)\n",
      "Collecting scipy>=1.1.0 (from scikit-optimize)\n",
      "  Downloading scipy-1.15.2-cp312-cp312-win_amd64.whl.metadata (60 kB)\n",
      "Collecting scikit-learn>=1.0.0 (from scikit-optimize)\n",
      "  Downloading scikit_learn-1.6.1-cp312-cp312-win_amd64.whl.metadata (15 kB)\n",
      "Requirement already satisfied: packaging>=21.3 in c:\\users\\labvision\\anaconda311\\envs\\streamlitvol\\lib\\site-packages (from scikit-optimize) (24.2)\n",
      "Requirement already satisfied: PyYAML in c:\\users\\labvision\\anaconda311\\envs\\streamlitvol\\lib\\site-packages (from pyaml>=16.9->scikit-optimize) (6.0.2)\n",
      "Collecting threadpoolctl>=3.1.0 (from scikit-learn>=1.0.0->scikit-optimize)\n",
      "  Downloading threadpoolctl-3.6.0-py3-none-any.whl.metadata (13 kB)\n",
      "Using cached scikit_optimize-0.10.2-py2.py3-none-any.whl (107 kB)\n",
      "Downloading joblib-1.4.2-py3-none-any.whl (301 kB)\n",
      "Downloading numpy-2.2.4-cp312-cp312-win_amd64.whl (12.6 MB)\n",
      "   ---------------------------------------- 0.0/12.6 MB ? eta -:--:--\n",
      "   ----------------- ---------------------- 5.5/12.6 MB 28.0 MB/s eta 0:00:01\n",
      "   -------------------------------------- - 12.3/12.6 MB 28.6 MB/s eta 0:00:01\n",
      "   ---------------------------------------  12.6/12.6 MB 29.2 MB/s eta 0:00:01\n",
      "   ---------------------------------------- 12.6/12.6 MB 16.9 MB/s eta 0:00:00\n",
      "Using cached pyaml-25.1.0-py3-none-any.whl (26 kB)\n",
      "Downloading scikit_learn-1.6.1-cp312-cp312-win_amd64.whl (11.1 MB)\n",
      "   ---------------------------------------- 0.0/11.1 MB ? eta -:--:--\n",
      "   ----------------------- ---------------- 6.6/11.1 MB 31.0 MB/s eta 0:00:01\n",
      "   ---------------------------------------  11.0/11.1 MB 29.9 MB/s eta 0:00:01\n",
      "   ---------------------------------------- 11.1/11.1 MB 17.4 MB/s eta 0:00:00\n",
      "Downloading scipy-1.15.2-cp312-cp312-win_amd64.whl (40.9 MB)\n",
      "   ---------------------------------------- 0.0/40.9 MB ? eta -:--:--\n",
      "   ----- ---------------------------------- 5.5/40.9 MB 25.8 MB/s eta 0:00:02\n",
      "   ----------- ---------------------------- 12.1/40.9 MB 28.0 MB/s eta 0:00:02\n",
      "   ----------------- ---------------------- 18.4/40.9 MB 28.2 MB/s eta 0:00:01\n",
      "   ------------------------ --------------- 24.6/40.9 MB 28.4 MB/s eta 0:00:01\n",
      "   --------------------------- ------------ 27.8/40.9 MB 25.5 MB/s eta 0:00:01\n",
      "   -------------------------------- ------- 32.8/40.9 MB 25.1 MB/s eta 0:00:01\n",
      "   ------------------------------------- -- 38.0/40.9 MB 24.9 MB/s eta 0:00:01\n",
      "   ---------------------------------------  40.9/40.9 MB 25.0 MB/s eta 0:00:01\n",
      "   ---------------------------------------- 40.9/40.9 MB 22.8 MB/s eta 0:00:00\n",
      "Downloading threadpoolctl-3.6.0-py3-none-any.whl (18 kB)\n",
      "Installing collected packages: threadpoolctl, pyaml, numpy, joblib, scipy, scikit-learn, scikit-optimize\n",
      "Successfully installed joblib-1.4.2 numpy-2.2.4 pyaml-25.1.0 scikit-learn-1.6.1 scikit-optimize-0.10.2 scipy-1.15.2 threadpoolctl-3.6.0\n",
      "Note: you may need to restart the kernel to use updated packages.\n"
     ]
    }
   ],
   "source": [
    "pip install scikit-optimize"
   ]
  },
  {
   "cell_type": "code",
   "execution_count": 3,
   "id": "5d1c18e1-9497-43ce-9a75-fdd745067fd3",
   "metadata": {},
   "outputs": [
    {
     "name": "stdout",
     "output_type": "stream",
     "text": [
      "Collecting XlsxWriter\n",
      "  Downloading XlsxWriter-3.2.2-py3-none-any.whl.metadata (2.8 kB)\n",
      "Downloading XlsxWriter-3.2.2-py3-none-any.whl (165 kB)\n",
      "Installing collected packages: XlsxWriter\n",
      "Successfully installed XlsxWriter-3.2.2\n",
      "Note: you may need to restart the kernel to use updated packages.\n"
     ]
    }
   ],
   "source": [
    "pip install XlsxWriter"
   ]
  },
  {
   "cell_type": "code",
   "execution_count": 4,
   "id": "dc308b60-34f2-40b1-a7f2-9e7f0c898cb5",
   "metadata": {},
   "outputs": [
    {
     "name": "stdout",
     "output_type": "stream",
     "text": [
      "Collecting streamlitNote: you may need to restart the kernel to use updated packages.\n",
      "\n",
      "  Downloading streamlit-1.44.0-py3-none-any.whl.metadata (8.9 kB)\n",
      "Requirement already satisfied: altair<6,>=4.0 in c:\\users\\labvision\\anaconda311\\envs\\streamlitvol\\lib\\site-packages (from streamlit) (5.5.0)\n",
      "Collecting blinker<2,>=1.0.0 (from streamlit)\n",
      "  Downloading blinker-1.9.0-py3-none-any.whl.metadata (1.6 kB)\n",
      "Collecting cachetools<6,>=4.0 (from streamlit)\n",
      "  Downloading cachetools-5.5.2-py3-none-any.whl.metadata (5.4 kB)\n",
      "Collecting click<9,>=7.0 (from streamlit)\n",
      "  Downloading click-8.1.8-py3-none-any.whl.metadata (2.3 kB)\n",
      "Requirement already satisfied: numpy<3,>=1.23 in c:\\users\\labvision\\anaconda311\\envs\\streamlitvol\\lib\\site-packages (from streamlit) (2.2.4)\n",
      "Requirement already satisfied: packaging<25,>=20 in c:\\users\\labvision\\anaconda311\\envs\\streamlitvol\\lib\\site-packages (from streamlit) (24.2)\n",
      "Collecting pandas<3,>=1.4.0 (from streamlit)\n",
      "  Downloading pandas-2.2.3-cp312-cp312-win_amd64.whl.metadata (19 kB)\n",
      "Collecting pillow<12,>=7.1.0 (from streamlit)\n",
      "  Downloading pillow-11.2.0-cp312-cp312-win_amd64.whl.metadata (9.2 kB)\n",
      "Collecting protobuf<6,>=3.20 (from streamlit)\n",
      "  Downloading protobuf-5.29.4-cp310-abi3-win_amd64.whl.metadata (592 bytes)\n",
      "Collecting pyarrow>=7.0 (from streamlit)\n",
      "  Downloading pyarrow-19.0.1-cp312-cp312-win_amd64.whl.metadata (3.4 kB)\n",
      "Requirement already satisfied: requests<3,>=2.27 in c:\\users\\labvision\\anaconda311\\envs\\streamlitvol\\lib\\site-packages (from streamlit) (2.32.3)\n",
      "Collecting tenacity<10,>=8.1.0 (from streamlit)\n",
      "  Downloading tenacity-9.0.0-py3-none-any.whl.metadata (1.2 kB)\n",
      "Collecting toml<2,>=0.10.1 (from streamlit)\n",
      "  Downloading toml-0.10.2-py2.py3-none-any.whl.metadata (7.1 kB)\n",
      "Requirement already satisfied: typing-extensions<5,>=4.4.0 in c:\\users\\labvision\\anaconda311\\envs\\streamlitvol\\lib\\site-packages (from streamlit) (4.12.2)\n",
      "Collecting watchdog<7,>=2.1.5 (from streamlit)\n",
      "  Downloading watchdog-6.0.0-py3-none-win_amd64.whl.metadata (44 kB)\n",
      "Collecting gitpython!=3.1.19,<4,>=3.0.7 (from streamlit)\n",
      "  Downloading GitPython-3.1.44-py3-none-any.whl.metadata (13 kB)\n",
      "Collecting pydeck<1,>=0.8.0b4 (from streamlit)\n",
      "  Downloading pydeck-0.9.1-py2.py3-none-any.whl.metadata (4.1 kB)\n",
      "Requirement already satisfied: tornado<7,>=6.0.3 in c:\\users\\labvision\\anaconda311\\envs\\streamlitvol\\lib\\site-packages (from streamlit) (6.4.2)\n",
      "Requirement already satisfied: jinja2 in c:\\users\\labvision\\anaconda311\\envs\\streamlitvol\\lib\\site-packages (from altair<6,>=4.0->streamlit) (3.1.6)\n",
      "Requirement already satisfied: jsonschema>=3.0 in c:\\users\\labvision\\anaconda311\\envs\\streamlitvol\\lib\\site-packages (from altair<6,>=4.0->streamlit) (4.23.0)\n",
      "Requirement already satisfied: narwhals>=1.14.2 in c:\\users\\labvision\\anaconda311\\envs\\streamlitvol\\lib\\site-packages (from altair<6,>=4.0->streamlit) (1.33.0)\n",
      "Requirement already satisfied: colorama in c:\\users\\labvision\\anaconda311\\envs\\streamlitvol\\lib\\site-packages (from click<9,>=7.0->streamlit) (0.4.6)\n",
      "Collecting gitdb<5,>=4.0.1 (from gitpython!=3.1.19,<4,>=3.0.7->streamlit)\n",
      "  Downloading gitdb-4.0.12-py3-none-any.whl.metadata (1.2 kB)\n",
      "Requirement already satisfied: python-dateutil>=2.8.2 in c:\\users\\labvision\\anaconda311\\envs\\streamlitvol\\lib\\site-packages (from pandas<3,>=1.4.0->streamlit) (2.9.0.post0)\n",
      "Collecting pytz>=2020.1 (from pandas<3,>=1.4.0->streamlit)\n",
      "  Downloading pytz-2025.2-py2.py3-none-any.whl.metadata (22 kB)\n",
      "Collecting tzdata>=2022.7 (from pandas<3,>=1.4.0->streamlit)\n",
      "  Downloading tzdata-2025.2-py2.py3-none-any.whl.metadata (1.4 kB)\n",
      "Requirement already satisfied: charset-normalizer<4,>=2 in c:\\users\\labvision\\anaconda311\\envs\\streamlitvol\\lib\\site-packages (from requests<3,>=2.27->streamlit) (3.3.2)\n",
      "Requirement already satisfied: idna<4,>=2.5 in c:\\users\\labvision\\anaconda311\\envs\\streamlitvol\\lib\\site-packages (from requests<3,>=2.27->streamlit) (3.7)\n",
      "Requirement already satisfied: urllib3<3,>=1.21.1 in c:\\users\\labvision\\anaconda311\\envs\\streamlitvol\\lib\\site-packages (from requests<3,>=2.27->streamlit) (2.3.0)\n",
      "Requirement already satisfied: certifi>=2017.4.17 in c:\\users\\labvision\\anaconda311\\envs\\streamlitvol\\lib\\site-packages (from requests<3,>=2.27->streamlit) (2025.1.31)\n",
      "Collecting smmap<6,>=3.0.1 (from gitdb<5,>=4.0.1->gitpython!=3.1.19,<4,>=3.0.7->streamlit)\n",
      "  Downloading smmap-5.0.2-py3-none-any.whl.metadata (4.3 kB)\n",
      "Requirement already satisfied: MarkupSafe>=2.0 in c:\\users\\labvision\\anaconda311\\envs\\streamlitvol\\lib\\site-packages (from jinja2->altair<6,>=4.0->streamlit) (3.0.2)\n",
      "Requirement already satisfied: attrs>=22.2.0 in c:\\users\\labvision\\anaconda311\\envs\\streamlitvol\\lib\\site-packages (from jsonschema>=3.0->altair<6,>=4.0->streamlit) (24.3.0)\n",
      "Requirement already satisfied: jsonschema-specifications>=2023.03.6 in c:\\users\\labvision\\anaconda311\\envs\\streamlitvol\\lib\\site-packages (from jsonschema>=3.0->altair<6,>=4.0->streamlit) (2023.7.1)\n",
      "Requirement already satisfied: referencing>=0.28.4 in c:\\users\\labvision\\anaconda311\\envs\\streamlitvol\\lib\\site-packages (from jsonschema>=3.0->altair<6,>=4.0->streamlit) (0.30.2)\n",
      "Requirement already satisfied: rpds-py>=0.7.1 in c:\\users\\labvision\\anaconda311\\envs\\streamlitvol\\lib\\site-packages (from jsonschema>=3.0->altair<6,>=4.0->streamlit) (0.22.3)\n",
      "Requirement already satisfied: six>=1.5 in c:\\users\\labvision\\anaconda311\\envs\\streamlitvol\\lib\\site-packages (from python-dateutil>=2.8.2->pandas<3,>=1.4.0->streamlit) (1.16.0)\n",
      "Downloading streamlit-1.44.0-py3-none-any.whl (9.8 MB)\n",
      "   ---------------------------------------- 0.0/9.8 MB ? eta -:--:--\n",
      "   ---------------- ----------------------- 3.9/9.8 MB 19.6 MB/s eta 0:00:01\n",
      "   ------------------------------------- -- 9.2/9.8 MB 22.0 MB/s eta 0:00:01\n",
      "   ---------------------------------------  9.7/9.8 MB 22.4 MB/s eta 0:00:01\n",
      "   ---------------------------------------- 9.8/9.8 MB 14.6 MB/s eta 0:00:00\n",
      "Downloading blinker-1.9.0-py3-none-any.whl (8.5 kB)\n",
      "Downloading cachetools-5.5.2-py3-none-any.whl (10 kB)\n",
      "Downloading click-8.1.8-py3-none-any.whl (98 kB)\n",
      "Downloading GitPython-3.1.44-py3-none-any.whl (207 kB)\n",
      "Downloading pandas-2.2.3-cp312-cp312-win_amd64.whl (11.5 MB)\n",
      "   ---------------------------------------- 0.0/11.5 MB ? eta -:--:--\n",
      "   ---------------- ----------------------- 4.7/11.5 MB 22.0 MB/s eta 0:00:01\n",
      "   -------------------------- ------------- 7.6/11.5 MB 18.1 MB/s eta 0:00:01\n",
      "   ------------------------------------- -- 10.7/11.5 MB 16.4 MB/s eta 0:00:01\n",
      "   ---------------------------------------  11.3/11.5 MB 16.4 MB/s eta 0:00:01\n",
      "   ---------------------------------------  11.3/11.5 MB 16.4 MB/s eta 0:00:01\n",
      "   ---------------------------------------- 11.5/11.5 MB 10.3 MB/s eta 0:00:00\n",
      "Downloading pillow-11.2.0-cp312-cp312-win_amd64.whl (13.8 MB)\n",
      "   ---------------------------------------- 0.0/13.8 MB ? eta -:--:--\n",
      "   ------------ --------------------------- 4.5/13.8 MB 19.2 MB/s eta 0:00:01\n",
      "   ------------------------- -------------- 8.7/13.8 MB 19.2 MB/s eta 0:00:01\n",
      "   -------------------------------- ------- 11.3/13.8 MB 17.2 MB/s eta 0:00:01\n",
      "   -------------------------------------- - 13.4/13.8 MB 15.2 MB/s eta 0:00:01\n",
      "   ---------------------------------------  13.6/13.8 MB 15.0 MB/s eta 0:00:01\n",
      "   ---------------------------------------  13.6/13.8 MB 15.0 MB/s eta 0:00:01\n",
      "   ---------------------------------------- 13.8/13.8 MB 10.3 MB/s eta 0:00:00\n",
      "Downloading protobuf-5.29.4-cp310-abi3-win_amd64.whl (434 kB)\n",
      "Downloading pyarrow-19.0.1-cp312-cp312-win_amd64.whl (25.3 MB)\n",
      "   ---------------------------------------- 0.0/25.3 MB ? eta -:--:--\n",
      "   ---- ----------------------------------- 2.6/25.3 MB 12.5 MB/s eta 0:00:02\n",
      "   ------- -------------------------------- 5.0/25.3 MB 13.1 MB/s eta 0:00:02\n",
      "   ------------ --------------------------- 7.6/25.3 MB 11.7 MB/s eta 0:00:02\n",
      "   ---------------- ----------------------- 10.5/25.3 MB 12.1 MB/s eta 0:00:02\n",
      "   --------------------- ------------------ 13.4/25.3 MB 12.5 MB/s eta 0:00:01\n",
      "   ------------------------- -------------- 16.0/25.3 MB 12.4 MB/s eta 0:00:01\n",
      "   ----------------------------- ---------- 18.6/25.3 MB 12.4 MB/s eta 0:00:01\n",
      "   ---------------------------------- ----- 21.8/25.3 MB 12.6 MB/s eta 0:00:01\n",
      "   ---------------------------------------  24.9/25.3 MB 12.8 MB/s eta 0:00:01\n",
      "   ---------------------------------------  25.2/25.3 MB 12.9 MB/s eta 0:00:01\n",
      "   ---------------------------------------  25.2/25.3 MB 12.9 MB/s eta 0:00:01\n",
      "   ---------------------------------------- 25.3/25.3 MB 10.5 MB/s eta 0:00:00\n",
      "Downloading pydeck-0.9.1-py2.py3-none-any.whl (6.9 MB)\n",
      "   ---------------------------------------- 0.0/6.9 MB ? eta -:--:--\n",
      "   ------------------- -------------------- 3.4/6.9 MB 16.8 MB/s eta 0:00:01\n",
      "   ---------------------------------------  6.8/6.9 MB 16.8 MB/s eta 0:00:01\n",
      "   ---------------------------------------  6.8/6.9 MB 16.8 MB/s eta 0:00:01\n",
      "   ---------------------------------------- 6.9/6.9 MB 9.0 MB/s eta 0:00:00\n",
      "Downloading tenacity-9.0.0-py3-none-any.whl (28 kB)\n",
      "Downloading toml-0.10.2-py2.py3-none-any.whl (16 kB)\n",
      "Downloading watchdog-6.0.0-py3-none-win_amd64.whl (79 kB)\n",
      "Downloading gitdb-4.0.12-py3-none-any.whl (62 kB)\n",
      "Downloading pytz-2025.2-py2.py3-none-any.whl (509 kB)\n",
      "Downloading tzdata-2025.2-py2.py3-none-any.whl (347 kB)\n",
      "Downloading smmap-5.0.2-py3-none-any.whl (24 kB)\n",
      "Installing collected packages: pytz, watchdog, tzdata, toml, tenacity, smmap, pyarrow, protobuf, pillow, click, cachetools, blinker, pydeck, pandas, gitdb, gitpython, streamlit\n",
      "Successfully installed blinker-1.9.0 cachetools-5.5.2 click-8.1.8 gitdb-4.0.12 gitpython-3.1.44 pandas-2.2.3 pillow-11.2.0 protobuf-5.29.4 pyarrow-19.0.1 pydeck-0.9.1 pytz-2025.2 smmap-5.0.2 streamlit-1.44.0 tenacity-9.0.0 toml-0.10.2 tzdata-2025.2 watchdog-6.0.0\n"
     ]
    }
   ],
   "source": [
    "pip install streamlit"
   ]
  },
  {
   "cell_type": "code",
   "execution_count": 5,
   "id": "9c80982d-fd89-4e3a-a376-c67ee9313d06",
   "metadata": {},
   "outputs": [
    {
     "name": "stdout",
     "output_type": "stream",
     "text": [
      "Requirement already satisfied: pandas in c:\\users\\labvision\\anaconda311\\envs\\streamlitvol\\lib\\site-packages (2.2.3)\n",
      "Requirement already satisfied: numpy>=1.26.0 in c:\\users\\labvision\\anaconda311\\envs\\streamlitvol\\lib\\site-packages (from pandas) (2.2.4)\n",
      "Requirement already satisfied: python-dateutil>=2.8.2 in c:\\users\\labvision\\anaconda311\\envs\\streamlitvol\\lib\\site-packages (from pandas) (2.9.0.post0)\n",
      "Requirement already satisfied: pytz>=2020.1 in c:\\users\\labvision\\anaconda311\\envs\\streamlitvol\\lib\\site-packages (from pandas) (2025.2)\n",
      "Requirement already satisfied: tzdata>=2022.7 in c:\\users\\labvision\\anaconda311\\envs\\streamlitvol\\lib\\site-packages (from pandas) (2025.2)\n",
      "Requirement already satisfied: six>=1.5 in c:\\users\\labvision\\anaconda311\\envs\\streamlitvol\\lib\\site-packages (from python-dateutil>=2.8.2->pandas) (1.16.0)\n",
      "Note: you may need to restart the kernel to use updated packages.\n"
     ]
    }
   ],
   "source": [
    "pip install pandas"
   ]
  },
  {
   "cell_type": "code",
   "execution_count": 6,
   "id": "bba15364-7f4e-4f41-87f1-994e62cd55ac",
   "metadata": {},
   "outputs": [
    {
     "name": "stdout",
     "output_type": "stream",
     "text": [
      "Requirement already satisfied: numpy in c:\\users\\labvision\\anaconda311\\envs\\streamlitvol\\lib\\site-packages (2.2.4)Note: you may need to restart the kernel to use updated packages.\n",
      "\n"
     ]
    }
   ],
   "source": [
    "pip install numpy"
   ]
  },
  {
   "cell_type": "code",
   "execution_count": null,
   "id": "abfed990-fbec-48c7-ad01-e0f5521991a4",
   "metadata": {},
   "outputs": [],
   "source": []
  }
 ],
 "metadata": {
  "kernelspec": {
   "display_name": "Python 3 (ipykernel)",
   "language": "python",
   "name": "python3"
  },
  "language_info": {
   "codemirror_mode": {
    "name": "ipython",
    "version": 3
   },
   "file_extension": ".py",
   "mimetype": "text/x-python",
   "name": "python",
   "nbconvert_exporter": "python",
   "pygments_lexer": "ipython3",
   "version": "3.12.9"
  }
 },
 "nbformat": 4,
 "nbformat_minor": 5
}
