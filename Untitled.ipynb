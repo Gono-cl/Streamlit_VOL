{
 "cells": [
  {
   "cell_type": "code",
   "execution_count": 3,
   "id": "435b5f67-e6f6-4a49-a63e-41f4335f238b",
   "metadata": {},
   "outputs": [],
   "source": [
    "import streamlit as st"
   ]
  },
  {
   "cell_type": "code",
   "execution_count": 1,
   "id": "b47cc34e-327d-40cc-8a24-524767017c66",
   "metadata": {},
   "outputs": [
    {
     "name": "stdout",
     "output_type": "stream",
     "text": [
      "Requirement already satisfied: altair in c:\\users\\gon41849\\appdata\\local\\anaconda4\\envs\\streamlit_vol\\lib\\site-packages (5.5.0)\n",
      "Requirement already satisfied: jinja2 in c:\\users\\gon41849\\appdata\\local\\anaconda4\\envs\\streamlit_vol\\lib\\site-packages (from altair) (3.1.6)\n",
      "Requirement already satisfied: jsonschema>=3.0 in c:\\users\\gon41849\\appdata\\local\\anaconda4\\envs\\streamlit_vol\\lib\\site-packages (from altair) (4.23.0)\n",
      "Requirement already satisfied: narwhals>=1.14.2 in c:\\users\\gon41849\\appdata\\local\\anaconda4\\envs\\streamlit_vol\\lib\\site-packages (from altair) (1.32.0)\n",
      "Requirement already satisfied: packaging in c:\\users\\gon41849\\appdata\\local\\anaconda4\\envs\\streamlit_vol\\lib\\site-packages (from altair) (24.2)\n",
      "Requirement already satisfied: typing-extensions>=4.10.0 in c:\\users\\gon41849\\appdata\\local\\anaconda4\\envs\\streamlit_vol\\lib\\site-packages (from altair) (4.12.2)\n",
      "Requirement already satisfied: attrs>=22.2.0 in c:\\users\\gon41849\\appdata\\local\\anaconda4\\envs\\streamlit_vol\\lib\\site-packages (from jsonschema>=3.0->altair) (24.3.0)\n",
      "Requirement already satisfied: jsonschema-specifications>=2023.03.6 in c:\\users\\gon41849\\appdata\\local\\anaconda4\\envs\\streamlit_vol\\lib\\site-packages (from jsonschema>=3.0->altair) (2023.7.1)\n",
      "Requirement already satisfied: referencing>=0.28.4 in c:\\users\\gon41849\\appdata\\local\\anaconda4\\envs\\streamlit_vol\\lib\\site-packages (from jsonschema>=3.0->altair) (0.30.2)\n",
      "Requirement already satisfied: rpds-py>=0.7.1 in c:\\users\\gon41849\\appdata\\local\\anaconda4\\envs\\streamlit_vol\\lib\\site-packages (from jsonschema>=3.0->altair) (0.22.3)\n",
      "Requirement already satisfied: MarkupSafe>=2.0 in c:\\users\\gon41849\\appdata\\local\\anaconda4\\envs\\streamlit_vol\\lib\\site-packages (from jinja2->altair) (3.0.2)\n",
      "Note: you may need to restart the kernel to use updated packages.\n"
     ]
    }
   ],
   "source": [
    "pip install altair"
   ]
  },
  {
   "cell_type": "code",
   "execution_count": null,
   "id": "7b703f25-8eae-447d-976e-04700ef941a2",
   "metadata": {},
   "outputs": [],
   "source": []
  }
 ],
 "metadata": {
  "kernelspec": {
   "display_name": "Python 3 (ipykernel)",
   "language": "python",
   "name": "python3"
  },
  "language_info": {
   "codemirror_mode": {
    "name": "ipython",
    "version": 3
   },
   "file_extension": ".py",
   "mimetype": "text/x-python",
   "name": "python",
   "nbconvert_exporter": "python",
   "pygments_lexer": "ipython3",
   "version": "3.11.11"
  }
 },
 "nbformat": 4,
 "nbformat_minor": 5
}
