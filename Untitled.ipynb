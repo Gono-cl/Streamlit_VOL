{
 "cells": [
  {
   "cell_type": "code",
   "execution_count": 3,
   "id": "435b5f67-e6f6-4a49-a63e-41f4335f238b",
   "metadata": {},
   "outputs": [],
   "source": [
    "import streamlit as st"
   ]
  },
  {
   "cell_type": "code",
   "execution_count": 1,
   "id": "b47cc34e-327d-40cc-8a24-524767017c66",
   "metadata": {},
   "outputs": [
    {
     "name": "stdout",
     "output_type": "stream",
     "text": [
      "Requirement already satisfied: altair in c:\\users\\gon41849\\appdata\\local\\anaconda4\\envs\\streamlit_vol\\lib\\site-packages (5.5.0)\n",
      "Requirement already satisfied: jinja2 in c:\\users\\gon41849\\appdata\\local\\anaconda4\\envs\\streamlit_vol\\lib\\site-packages (from altair) (3.1.6)\n",
      "Requirement already satisfied: jsonschema>=3.0 in c:\\users\\gon41849\\appdata\\local\\anaconda4\\envs\\streamlit_vol\\lib\\site-packages (from altair) (4.23.0)\n",
      "Requirement already satisfied: narwhals>=1.14.2 in c:\\users\\gon41849\\appdata\\local\\anaconda4\\envs\\streamlit_vol\\lib\\site-packages (from altair) (1.32.0)\n",
      "Requirement already satisfied: packaging in c:\\users\\gon41849\\appdata\\local\\anaconda4\\envs\\streamlit_vol\\lib\\site-packages (from altair) (24.2)\n",
      "Requirement already satisfied: typing-extensions>=4.10.0 in c:\\users\\gon41849\\appdata\\local\\anaconda4\\envs\\streamlit_vol\\lib\\site-packages (from altair) (4.12.2)\n",
      "Requirement already satisfied: attrs>=22.2.0 in c:\\users\\gon41849\\appdata\\local\\anaconda4\\envs\\streamlit_vol\\lib\\site-packages (from jsonschema>=3.0->altair) (24.3.0)\n",
      "Requirement already satisfied: jsonschema-specifications>=2023.03.6 in c:\\users\\gon41849\\appdata\\local\\anaconda4\\envs\\streamlit_vol\\lib\\site-packages (from jsonschema>=3.0->altair) (2023.7.1)\n",
      "Requirement already satisfied: referencing>=0.28.4 in c:\\users\\gon41849\\appdata\\local\\anaconda4\\envs\\streamlit_vol\\lib\\site-packages (from jsonschema>=3.0->altair) (0.30.2)\n",
      "Requirement already satisfied: rpds-py>=0.7.1 in c:\\users\\gon41849\\appdata\\local\\anaconda4\\envs\\streamlit_vol\\lib\\site-packages (from jsonschema>=3.0->altair) (0.22.3)\n",
      "Requirement already satisfied: MarkupSafe>=2.0 in c:\\users\\gon41849\\appdata\\local\\anaconda4\\envs\\streamlit_vol\\lib\\site-packages (from jinja2->altair) (3.0.2)\n",
      "Note: you may need to restart the kernel to use updated packages.\n"
     ]
    }
   ],
   "source": [
    "pip install altair"
   ]
  },
  {
   "cell_type": "code",
   "execution_count": 1,
   "id": "7b703f25-8eae-447d-976e-04700ef941a2",
   "metadata": {},
   "outputs": [
    {
     "name": "stdout",
     "output_type": "stream",
     "text": [
      "Collecting scikit-optimize\n",
      "  Downloading scikit_optimize-0.10.2-py2.py3-none-any.whl (107 kB)\n",
      "\u001b[2K     \u001b[90m━━━━━━━━━━━━━━━━━━━━━━━━━━━━━━━━━━━━━━━\u001b[0m \u001b[32m107.8/107.8 kB\u001b[0m \u001b[31m1.7 MB/s\u001b[0m eta \u001b[36m0:00:00\u001b[0ma \u001b[36m0:00:01\u001b[0m\n",
      "\u001b[?25hRequirement already satisfied: numpy>=1.20.3 in /Users/gonzaloaraya/anaconda3/lib/python3.10/site-packages (from scikit-optimize) (1.23.5)\n",
      "Collecting pyaml>=16.9\n",
      "  Downloading pyaml-25.1.0-py3-none-any.whl (26 kB)\n",
      "Requirement already satisfied: scikit-learn>=1.0.0 in /Users/gonzaloaraya/anaconda3/lib/python3.10/site-packages (from scikit-optimize) (1.2.1)\n",
      "Requirement already satisfied: joblib>=0.11 in /Users/gonzaloaraya/anaconda3/lib/python3.10/site-packages (from scikit-optimize) (1.1.1)\n",
      "Requirement already satisfied: packaging>=21.3 in /Users/gonzaloaraya/anaconda3/lib/python3.10/site-packages (from scikit-optimize) (22.0)\n",
      "Requirement already satisfied: scipy>=1.1.0 in /Users/gonzaloaraya/anaconda3/lib/python3.10/site-packages (from scikit-optimize) (1.10.0)\n",
      "Requirement already satisfied: PyYAML in /Users/gonzaloaraya/anaconda3/lib/python3.10/site-packages (from pyaml>=16.9->scikit-optimize) (6.0)\n",
      "Requirement already satisfied: threadpoolctl>=2.0.0 in /Users/gonzaloaraya/anaconda3/lib/python3.10/site-packages (from scikit-learn>=1.0.0->scikit-optimize) (2.2.0)\n",
      "Installing collected packages: pyaml, scikit-optimize\n",
      "Successfully installed pyaml-25.1.0 scikit-optimize-0.10.2\n",
      "Note: you may need to restart the kernel to use updated packages.\n"
     ]
    }
   ],
   "source": [
    "pip install scikit-optimize"
   ]
  },
  {
   "cell_type": "code",
   "execution_count": null,
   "id": "5d1c18e1-9497-43ce-9a75-fdd745067fd3",
   "metadata": {},
   "outputs": [],
   "source": []
  }
 ],
 "metadata": {
  "kernelspec": {
   "display_name": "Python 3 (ipykernel)",
   "language": "python",
   "name": "python3"
  },
  "language_info": {
   "codemirror_mode": {
    "name": "ipython",
    "version": 3
   },
   "file_extension": ".py",
   "mimetype": "text/x-python",
   "name": "python",
   "nbconvert_exporter": "python",
   "pygments_lexer": "ipython3",
   "version": "3.10.9"
  }
 },
 "nbformat": 4,
 "nbformat_minor": 5
}
