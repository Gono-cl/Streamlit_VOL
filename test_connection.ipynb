{
 "cells": [
  {
   "cell_type": "code",
   "execution_count": 6,
   "id": "12e8a6f8-057f-4c1c-9e1c-f30c47bf21eb",
   "metadata": {},
   "outputs": [
    {
     "name": "stdout",
     "output_type": "stream",
     "text": [
      "Hitec_OPC_DA20_Server->DIAZOAN:CHILLER_01.X1: Value: 28.0 Quality: 216 Timestamp: 2025-05-07T09:54:49.293Z\n",
      "Hitec_OPC_DA20_Server->DIAZOAN:CHILLER_01.X1: Value: 28.0 Quality: 216 Timestamp: 2025-05-07T09:54:49.293Z\n",
      "Hitec_OPC_DA20_Server->DIAZOAN:CHILLER_01.X1: Value: 28.0 Quality: 216 Timestamp: 2025-05-07T09:54:49.293Z\n"
     ]
    },
    {
     "ename": "KeyboardInterrupt",
     "evalue": "",
     "output_type": "error",
     "traceback": [
      "\u001b[1;31m---------------------------------------------------------------------------\u001b[0m",
      "\u001b[1;31mKeyboardInterrupt\u001b[0m                         Traceback (most recent call last)",
      "Cell \u001b[1;32mIn[6], line 25\u001b[0m\n\u001b[0;32m     22\u001b[0m     \u001b[38;5;28mprint\u001b[39m(item[\u001b[38;5;124m\"\u001b[39m\u001b[38;5;124mID\u001b[39m\u001b[38;5;124m\"\u001b[39m] \u001b[38;5;241m+\u001b[39m \u001b[38;5;124m\"\u001b[39m\u001b[38;5;124m:\u001b[39m\u001b[38;5;124m\"\u001b[39m \u001b[38;5;241m+\u001b[39m \u001b[38;5;124m\"\u001b[39m\u001b[38;5;124m Value: \u001b[39m\u001b[38;5;124m\"\u001b[39m \u001b[38;5;241m+\u001b[39m \u001b[38;5;28mstr\u001b[39m(item[\u001b[38;5;124m\"\u001b[39m\u001b[38;5;124mValue\u001b[39m\u001b[38;5;124m\"\u001b[39m]) \u001b[38;5;241m+\u001b[39m \u001b[38;5;124m\"\u001b[39m\u001b[38;5;124m Quality: \u001b[39m\u001b[38;5;124m\"\u001b[39m \u001b[38;5;241m+\u001b[39m \u001b[38;5;28mstr\u001b[39m(item[\u001b[38;5;124m\"\u001b[39m\u001b[38;5;124mQuality\u001b[39m\u001b[38;5;124m\"\u001b[39m]) \u001b[38;5;241m+\u001b[39m \u001b[38;5;124m\"\u001b[39m\u001b[38;5;124m Timestamp: \u001b[39m\u001b[38;5;124m\"\u001b[39m \u001b[38;5;241m+\u001b[39m item[\u001b[38;5;124m\"\u001b[39m\u001b[38;5;124mSourceTimestamp\u001b[39m\u001b[38;5;124m\"\u001b[39m])\n\u001b[0;32m     24\u001b[0m \u001b[38;5;66;03m#sleep for 1 second\u001b[39;00m\n\u001b[1;32m---> 25\u001b[0m time\u001b[38;5;241m.\u001b[39msleep(\u001b[38;5;241m1\u001b[39m)\n",
      "\u001b[1;31mKeyboardInterrupt\u001b[0m: "
     ]
    }
   ],
   "source": [
    "import requests\n",
    "import json\n",
    "import time\n",
    "\n",
    "#To fix error \"ImportError: No module named requests\"\n",
    "#   1. Start Command Prompt (cmd.exe)\n",
    "#   2. Enter \"py -3 -m pip install requests\"\n",
    "\n",
    "#To fix error \"ImportError: No module named json\"\n",
    "#   1. Start Command Prompt (cmd.exe)\n",
    "#   2. Enter \"py -3 -m pip install json\"\n",
    "\n",
    "while(True):\n",
    "    response = requests.get(\"http://em-nun:57080/read?item=Hitec_OPC_DA20_Server->DIAZOAN:CHILLER_01.X1\")\n",
    "\n",
    "    #parse response string(JSON) into a JSON object\n",
    "    json_object = json.loads(response.text)\n",
    "    data = json_object[\"data\"]\n",
    "\n",
    "    #each item contains the properties: ID, Value, Quality, SourceTimestamp, ServerTimestamp\n",
    "    for item in data:\n",
    "        print(item[\"ID\"] + \":\" + \" Value: \" + str(item[\"Value\"]) + \" Quality: \" + str(item[\"Quality\"]) + \" Timestamp: \" + item[\"SourceTimestamp\"])\n",
    "\n",
    "    #sleep for 1 second\n",
    "    time.sleep(1)\n"
   ]
  },
  {
   "cell_type": "code",
   "execution_count": 1,
   "id": "397ebbb0-189a-4d67-b7f9-7462903ed177",
   "metadata": {},
   "outputs": [
    {
     "name": "stdout",
     "output_type": "stream",
     "text": [
      "Collecting plotly\n",
      "  Downloading plotly-6.0.1-py3-none-any.whl.metadata (6.7 kB)\n",
      "Requirement already satisfied: narwhals>=1.15.1 in c:\\users\\gon41849\\appdata\\local\\anaconda4\\envs\\streamlit_vol\\lib\\site-packages (from plotly) (1.32.0)\n",
      "Requirement already satisfied: packaging in c:\\users\\gon41849\\appdata\\local\\anaconda4\\envs\\streamlit_vol\\lib\\site-packages (from plotly) (24.2)\n",
      "Downloading plotly-6.0.1-py3-none-any.whl (14.8 MB)\n",
      "   ---------------------------------------- 0.0/14.8 MB ? eta -:--:--\n",
      "   --------------- ------------------------ 5.8/14.8 MB 29.3 MB/s eta 0:00:01\n",
      "   ------------------------ --------------- 8.9/14.8 MB 21.3 MB/s eta 0:00:01\n",
      "   ----------------------------- ---------- 10.7/14.8 MB 17.2 MB/s eta 0:00:01\n",
      "   ---------------------------------- ----- 12.8/14.8 MB 15.2 MB/s eta 0:00:01\n",
      "   ---------------------------------------- 14.8/14.8 MB 14.5 MB/s eta 0:00:00\n",
      "Installing collected packages: plotly\n",
      "Successfully installed plotly-6.0.1\n",
      "Note: you may need to restart the kernel to use updated packages.\n"
     ]
    }
   ],
   "source": [
    "pip install plotly"
   ]
  },
  {
   "cell_type": "code",
   "execution_count": 1,
   "id": "f0227def-faa7-4930-893d-36f33cec08ea",
   "metadata": {},
   "outputs": [
    {
     "name": "stdout",
     "output_type": "stream",
     "text": [
      "Collecting seabornNote: you may need to restart the kernel to use updated packages.\n",
      "\n",
      "  Downloading seaborn-0.13.2-py3-none-any.whl.metadata (5.4 kB)\n",
      "Requirement already satisfied: numpy!=1.24.0,>=1.20 in c:\\users\\gon41849\\appdata\\local\\anaconda4\\envs\\streamlit_vol\\lib\\site-packages (from seaborn) (2.2.4)\n",
      "Requirement already satisfied: pandas>=1.2 in c:\\users\\gon41849\\appdata\\local\\anaconda4\\envs\\streamlit_vol\\lib\\site-packages (from seaborn) (2.2.3)\n",
      "Requirement already satisfied: matplotlib!=3.6.1,>=3.4 in c:\\users\\gon41849\\appdata\\local\\anaconda4\\envs\\streamlit_vol\\lib\\site-packages (from seaborn) (3.10.1)\n",
      "Requirement already satisfied: contourpy>=1.0.1 in c:\\users\\gon41849\\appdata\\local\\anaconda4\\envs\\streamlit_vol\\lib\\site-packages (from matplotlib!=3.6.1,>=3.4->seaborn) (1.3.1)\n",
      "Requirement already satisfied: cycler>=0.10 in c:\\users\\gon41849\\appdata\\local\\anaconda4\\envs\\streamlit_vol\\lib\\site-packages (from matplotlib!=3.6.1,>=3.4->seaborn) (0.12.1)\n",
      "Requirement already satisfied: fonttools>=4.22.0 in c:\\users\\gon41849\\appdata\\local\\anaconda4\\envs\\streamlit_vol\\lib\\site-packages (from matplotlib!=3.6.1,>=3.4->seaborn) (4.56.0)\n",
      "Requirement already satisfied: kiwisolver>=1.3.1 in c:\\users\\gon41849\\appdata\\local\\anaconda4\\envs\\streamlit_vol\\lib\\site-packages (from matplotlib!=3.6.1,>=3.4->seaborn) (1.4.8)\n",
      "Requirement already satisfied: packaging>=20.0 in c:\\users\\gon41849\\appdata\\local\\anaconda4\\envs\\streamlit_vol\\lib\\site-packages (from matplotlib!=3.6.1,>=3.4->seaborn) (24.2)\n",
      "Requirement already satisfied: pillow>=8 in c:\\users\\gon41849\\appdata\\local\\anaconda4\\envs\\streamlit_vol\\lib\\site-packages (from matplotlib!=3.6.1,>=3.4->seaborn) (11.1.0)\n",
      "Requirement already satisfied: pyparsing>=2.3.1 in c:\\users\\gon41849\\appdata\\local\\anaconda4\\envs\\streamlit_vol\\lib\\site-packages (from matplotlib!=3.6.1,>=3.4->seaborn) (3.2.3)\n",
      "Requirement already satisfied: python-dateutil>=2.7 in c:\\users\\gon41849\\appdata\\local\\anaconda4\\envs\\streamlit_vol\\lib\\site-packages (from matplotlib!=3.6.1,>=3.4->seaborn) (2.9.0.post0)\n",
      "Requirement already satisfied: pytz>=2020.1 in c:\\users\\gon41849\\appdata\\local\\anaconda4\\envs\\streamlit_vol\\lib\\site-packages (from pandas>=1.2->seaborn) (2025.2)\n",
      "Requirement already satisfied: tzdata>=2022.7 in c:\\users\\gon41849\\appdata\\local\\anaconda4\\envs\\streamlit_vol\\lib\\site-packages (from pandas>=1.2->seaborn) (2025.2)\n",
      "Requirement already satisfied: six>=1.5 in c:\\users\\gon41849\\appdata\\local\\anaconda4\\envs\\streamlit_vol\\lib\\site-packages (from python-dateutil>=2.7->matplotlib!=3.6.1,>=3.4->seaborn) (1.16.0)\n",
      "Downloading seaborn-0.13.2-py3-none-any.whl (294 kB)\n",
      "Installing collected packages: seaborn\n",
      "Successfully installed seaborn-0.13.2\n"
     ]
    }
   ],
   "source": [
    "pip install seaborn"
   ]
  },
  {
   "cell_type": "code",
   "execution_count": null,
   "id": "faea3c19-bc5f-47f6-b063-e20032e9ccb7",
   "metadata": {},
   "outputs": [],
   "source": []
  }
 ],
 "metadata": {
  "kernelspec": {
   "display_name": "Python 3 (ipykernel)",
   "language": "python",
   "name": "python3"
  },
  "language_info": {
   "codemirror_mode": {
    "name": "ipython",
    "version": 3
   },
   "file_extension": ".py",
   "mimetype": "text/x-python",
   "name": "python",
   "nbconvert_exporter": "python",
   "pygments_lexer": "ipython3",
   "version": "3.11.11"
  }
 },
 "nbformat": 4,
 "nbformat_minor": 5
}
