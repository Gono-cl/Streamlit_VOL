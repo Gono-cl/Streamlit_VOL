{
 "cells": [
  {
   "cell_type": "code",
   "execution_count": 1,
   "id": "5d1331a1-7798-4139-988f-8f189a3fcea3",
   "metadata": {},
   "outputs": [
    {
     "name": "stdout",
     "output_type": "stream",
     "text": [
      "Collecting XlsxWriter\n",
      "  Downloading XlsxWriter-3.2.2-py3-none-any.whl (165 kB)\n",
      "\u001b[2K     \u001b[90m━━━━━━━━━━━━━━━━━━━━━━━━━━━━━━━━━━━━━\u001b[0m \u001b[32m165.1/165.1 kB\u001b[0m \u001b[31m753.3 kB/s\u001b[0m eta \u001b[36m0:00:00\u001b[0m00:01\u001b[0m00:01\u001b[0m\n",
      "\u001b[?25hInstalling collected packages: XlsxWriter\n",
      "Successfully installed XlsxWriter-3.2.2\n",
      "Note: you may need to restart the kernel to use updated packages.\n"
     ]
    }
   ],
   "source": [
    "pip install XlsxWriter"
   ]
  },
  {
   "cell_type": "code",
   "execution_count": 14,
   "id": "12e8a6f8-057f-4c1c-9e1c-f30c47bf21eb",
   "metadata": {},
   "outputs": [
    {
     "name": "stdout",
     "output_type": "stream",
     "text": [
      "Hitec_OPC_DA20_Server->DIAZOAN:CHILLER_01.X1: Value: 31.0 Quality: 216 Timestamp: 2025-04-16T08:49:16.227Z\n",
      "Hitec_OPC_DA20_Server->DIAZOAN:CHILLER_01.X1: Value: 31.0 Quality: 216 Timestamp: 2025-04-16T08:49:16.227Z\n",
      "Hitec_OPC_DA20_Server->DIAZOAN:CHILLER_01.X1: Value: 31.0 Quality: 216 Timestamp: 2025-04-16T08:49:16.227Z\n"
     ]
    },
    {
     "ename": "KeyboardInterrupt",
     "evalue": "",
     "output_type": "error",
     "traceback": [
      "\u001b[1;31m---------------------------------------------------------------------------\u001b[0m",
      "\u001b[1;31mKeyboardInterrupt\u001b[0m                         Traceback (most recent call last)",
      "Cell \u001b[1;32mIn[14], line 25\u001b[0m\n\u001b[0;32m     22\u001b[0m     \u001b[38;5;28mprint\u001b[39m(item[\u001b[38;5;124m\"\u001b[39m\u001b[38;5;124mID\u001b[39m\u001b[38;5;124m\"\u001b[39m] \u001b[38;5;241m+\u001b[39m \u001b[38;5;124m\"\u001b[39m\u001b[38;5;124m:\u001b[39m\u001b[38;5;124m\"\u001b[39m \u001b[38;5;241m+\u001b[39m \u001b[38;5;124m\"\u001b[39m\u001b[38;5;124m Value: \u001b[39m\u001b[38;5;124m\"\u001b[39m \u001b[38;5;241m+\u001b[39m \u001b[38;5;28mstr\u001b[39m(item[\u001b[38;5;124m\"\u001b[39m\u001b[38;5;124mValue\u001b[39m\u001b[38;5;124m\"\u001b[39m]) \u001b[38;5;241m+\u001b[39m \u001b[38;5;124m\"\u001b[39m\u001b[38;5;124m Quality: \u001b[39m\u001b[38;5;124m\"\u001b[39m \u001b[38;5;241m+\u001b[39m \u001b[38;5;28mstr\u001b[39m(item[\u001b[38;5;124m\"\u001b[39m\u001b[38;5;124mQuality\u001b[39m\u001b[38;5;124m\"\u001b[39m]) \u001b[38;5;241m+\u001b[39m \u001b[38;5;124m\"\u001b[39m\u001b[38;5;124m Timestamp: \u001b[39m\u001b[38;5;124m\"\u001b[39m \u001b[38;5;241m+\u001b[39m item[\u001b[38;5;124m\"\u001b[39m\u001b[38;5;124mSourceTimestamp\u001b[39m\u001b[38;5;124m\"\u001b[39m])\n\u001b[0;32m     24\u001b[0m \u001b[38;5;66;03m#sleep for 1 second\u001b[39;00m\n\u001b[1;32m---> 25\u001b[0m time\u001b[38;5;241m.\u001b[39msleep(\u001b[38;5;241m1\u001b[39m)\n",
      "\u001b[1;31mKeyboardInterrupt\u001b[0m: "
     ]
    }
   ],
   "source": [
    "import requests\n",
    "import json\n",
    "import time\n",
    "\n",
    "#To fix error \"ImportError: No module named requests\"\n",
    "#   1. Start Command Prompt (cmd.exe)\n",
    "#   2. Enter \"py -3 -m pip install requests\"\n",
    "\n",
    "#To fix error \"ImportError: No module named json\"\n",
    "#   1. Start Command Prompt (cmd.exe)\n",
    "#   2. Enter \"py -3 -m pip install json\"\n",
    "\n",
    "while(True):\n",
    "    response = requests.get(\"http://em-nun:57080/read?item=Hitec_OPC_DA20_Server->DIAZOAN:CHILLER_01.X1\")\n",
    "\n",
    "    #parse response string(JSON) into a JSON object\n",
    "    json_object = json.loads(response.text)\n",
    "    data = json_object[\"data\"]\n",
    "\n",
    "    #each item contains the properties: ID, Value, Quality, SourceTimestamp, ServerTimestamp\n",
    "    for item in data:\n",
    "        print(item[\"ID\"] + \":\" + \" Value: \" + str(item[\"Value\"]) + \" Quality: \" + str(item[\"Quality\"]) + \" Timestamp: \" + item[\"SourceTimestamp\"])\n",
    "\n",
    "    #sleep for 1 second\n",
    "    time.sleep(1)\n"
   ]
  },
  {
   "cell_type": "code",
   "execution_count": null,
   "id": "397ebbb0-189a-4d67-b7f9-7462903ed177",
   "metadata": {},
   "outputs": [],
   "source": []
  },
  {
   "cell_type": "code",
   "execution_count": null,
   "id": "f0227def-faa7-4930-893d-36f33cec08ea",
   "metadata": {},
   "outputs": [],
   "source": []
  }
 ],
 "metadata": {
  "kernelspec": {
   "display_name": "Python 3 (ipykernel)",
   "language": "python",
   "name": "python3"
  },
  "language_info": {
   "codemirror_mode": {
    "name": "ipython",
    "version": 3
   },
   "file_extension": ".py",
   "mimetype": "text/x-python",
   "name": "python",
   "nbconvert_exporter": "python",
   "pygments_lexer": "ipython3",
   "version": "3.12.9"
  }
 },
 "nbformat": 4,
 "nbformat_minor": 5
}
