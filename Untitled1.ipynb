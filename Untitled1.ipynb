{
 "cells": [
  {
   "cell_type": "code",
   "execution_count": 1,
   "id": "5d1331a1-7798-4139-988f-8f189a3fcea3",
   "metadata": {},
   "outputs": [
    {
     "name": "stdout",
     "output_type": "stream",
     "text": [
      "Collecting XlsxWriter\n",
      "  Downloading XlsxWriter-3.2.2-py3-none-any.whl (165 kB)\n",
      "\u001b[2K     \u001b[90m━━━━━━━━━━━━━━━━━━━━━━━━━━━━━━━━━━━━━\u001b[0m \u001b[32m165.1/165.1 kB\u001b[0m \u001b[31m753.3 kB/s\u001b[0m eta \u001b[36m0:00:00\u001b[0m00:01\u001b[0m00:01\u001b[0m\n",
      "\u001b[?25hInstalling collected packages: XlsxWriter\n",
      "Successfully installed XlsxWriter-3.2.2\n",
      "Note: you may need to restart the kernel to use updated packages.\n"
     ]
    }
   ],
   "source": [
    "pip install XlsxWriter"
   ]
  },
  {
   "cell_type": "code",
   "execution_count": 15,
   "id": "12e8a6f8-057f-4c1c-9e1c-f30c47bf21eb",
   "metadata": {},
   "outputs": [
    {
     "name": "stdout",
     "output_type": "stream",
     "text": [
      "Hitec_OPC_DA20_Server->DIAZOAN:CHILLER_01.X1: Value: 30.3 Quality: 216 Timestamp: 2025-04-16T16:28:11.341Z\n",
      "Hitec_OPC_DA20_Server->DIAZOAN:CHILLER_01.X1: Value:  Quality: 2147483656 Timestamp: 2025-04-17T08:22:02.1376929Z\n",
      "Hitec_OPC_DA20_Server->DIAZOAN:CHILLER_01.X1: Value: 30.3 Quality: 216 Timestamp: 2025-04-16T16:28:11.341Z\n",
      "Hitec_OPC_DA20_Server->DIAZOAN:CHILLER_01.X1: Value: 30.3 Quality: 216 Timestamp: 2025-04-16T16:28:11.341Z\n",
      "Hitec_OPC_DA20_Server->DIAZOAN:CHILLER_01.X1: Value: 30.3 Quality: 216 Timestamp: 2025-04-16T16:28:11.341Z\n",
      "Hitec_OPC_DA20_Server->DIAZOAN:CHILLER_01.X1: Value: 30.3 Quality: 216 Timestamp: 2025-04-16T16:28:11.341Z\n",
      "Hitec_OPC_DA20_Server->DIAZOAN:CHILLER_01.X1: Value: 30.3 Quality: 216 Timestamp: 2025-04-16T16:28:11.341Z\n",
      "Hitec_OPC_DA20_Server->DIAZOAN:CHILLER_01.X1: Value: 30.3 Quality: 216 Timestamp: 2025-04-16T16:28:11.341Z\n",
      "Hitec_OPC_DA20_Server->DIAZOAN:CHILLER_01.X1: Value: 30.3 Quality: 216 Timestamp: 2025-04-16T16:28:11.341Z\n",
      "Hitec_OPC_DA20_Server->DIAZOAN:CHILLER_01.X1: Value: 30.3 Quality: 216 Timestamp: 2025-04-16T16:28:11.341Z\n",
      "Hitec_OPC_DA20_Server->DIAZOAN:CHILLER_01.X1: Value: 30.3 Quality: 216 Timestamp: 2025-04-16T16:28:11.341Z\n",
      "Hitec_OPC_DA20_Server->DIAZOAN:CHILLER_01.X1: Value: 30.3 Quality: 216 Timestamp: 2025-04-16T16:28:11.341Z\n",
      "Hitec_OPC_DA20_Server->DIAZOAN:CHILLER_01.X1: Value: 30.3 Quality: 216 Timestamp: 2025-04-16T16:28:11.341Z\n",
      "Hitec_OPC_DA20_Server->DIAZOAN:CHILLER_01.X1: Value: 27.0 Quality: 216 Timestamp: 2025-04-17T08:22:13.261Z\n",
      "Hitec_OPC_DA20_Server->DIAZOAN:CHILLER_01.X1: Value: 27.0 Quality: 216 Timestamp: 2025-04-17T08:22:13.261Z\n",
      "Hitec_OPC_DA20_Server->DIAZOAN:CHILLER_01.X1: Value: 27.0 Quality: 216 Timestamp: 2025-04-17T08:22:13.261Z\n"
     ]
    },
    {
     "ename": "KeyboardInterrupt",
     "evalue": "",
     "output_type": "error",
     "traceback": [
      "\u001b[1;31m---------------------------------------------------------------------------\u001b[0m",
      "\u001b[1;31mKeyboardInterrupt\u001b[0m                         Traceback (most recent call last)",
      "Cell \u001b[1;32mIn[15], line 14\u001b[0m\n\u001b[0;32m      5\u001b[0m \u001b[38;5;66;03m#To fix error \"ImportError: No module named requests\"\u001b[39;00m\n\u001b[0;32m      6\u001b[0m \u001b[38;5;66;03m#   1. Start Command Prompt (cmd.exe)\u001b[39;00m\n\u001b[0;32m      7\u001b[0m \u001b[38;5;66;03m#   2. Enter \"py -3 -m pip install requests\"\u001b[39;00m\n\u001b[1;32m   (...)\u001b[0m\n\u001b[0;32m     10\u001b[0m \u001b[38;5;66;03m#   1. Start Command Prompt (cmd.exe)\u001b[39;00m\n\u001b[0;32m     11\u001b[0m \u001b[38;5;66;03m#   2. Enter \"py -3 -m pip install json\"\u001b[39;00m\n\u001b[0;32m     13\u001b[0m \u001b[38;5;28;01mwhile\u001b[39;00m(\u001b[38;5;28;01mTrue\u001b[39;00m):\n\u001b[1;32m---> 14\u001b[0m     response \u001b[38;5;241m=\u001b[39m requests\u001b[38;5;241m.\u001b[39mget(\u001b[38;5;124m\"\u001b[39m\u001b[38;5;124mhttp://em-nun:57080/read?item=Hitec_OPC_DA20_Server->DIAZOAN:CHILLER_01.X1\u001b[39m\u001b[38;5;124m\"\u001b[39m)\n\u001b[0;32m     16\u001b[0m     \u001b[38;5;66;03m#parse response string(JSON) into a JSON object\u001b[39;00m\n\u001b[0;32m     17\u001b[0m     json_object \u001b[38;5;241m=\u001b[39m json\u001b[38;5;241m.\u001b[39mloads(response\u001b[38;5;241m.\u001b[39mtext)\n",
      "File \u001b[1;32m~\\anaconda311\\envs\\StreamlitVOL\\Lib\\site-packages\\requests\\api.py:73\u001b[0m, in \u001b[0;36mget\u001b[1;34m(url, params, **kwargs)\u001b[0m\n\u001b[0;32m     62\u001b[0m \u001b[38;5;28;01mdef\u001b[39;00m \u001b[38;5;21mget\u001b[39m(url, params\u001b[38;5;241m=\u001b[39m\u001b[38;5;28;01mNone\u001b[39;00m, \u001b[38;5;241m*\u001b[39m\u001b[38;5;241m*\u001b[39mkwargs):\n\u001b[0;32m     63\u001b[0m \u001b[38;5;250m    \u001b[39m\u001b[38;5;124mr\u001b[39m\u001b[38;5;124;03m\"\"\"Sends a GET request.\u001b[39;00m\n\u001b[0;32m     64\u001b[0m \n\u001b[0;32m     65\u001b[0m \u001b[38;5;124;03m    :param url: URL for the new :class:`Request` object.\u001b[39;00m\n\u001b[1;32m   (...)\u001b[0m\n\u001b[0;32m     70\u001b[0m \u001b[38;5;124;03m    :rtype: requests.Response\u001b[39;00m\n\u001b[0;32m     71\u001b[0m \u001b[38;5;124;03m    \"\"\"\u001b[39;00m\n\u001b[1;32m---> 73\u001b[0m     \u001b[38;5;28;01mreturn\u001b[39;00m request(\u001b[38;5;124m\"\u001b[39m\u001b[38;5;124mget\u001b[39m\u001b[38;5;124m\"\u001b[39m, url, params\u001b[38;5;241m=\u001b[39mparams, \u001b[38;5;241m*\u001b[39m\u001b[38;5;241m*\u001b[39mkwargs)\n",
      "File \u001b[1;32m~\\anaconda311\\envs\\StreamlitVOL\\Lib\\site-packages\\requests\\api.py:59\u001b[0m, in \u001b[0;36mrequest\u001b[1;34m(method, url, **kwargs)\u001b[0m\n\u001b[0;32m     55\u001b[0m \u001b[38;5;66;03m# By using the 'with' statement we are sure the session is closed, thus we\u001b[39;00m\n\u001b[0;32m     56\u001b[0m \u001b[38;5;66;03m# avoid leaving sockets open which can trigger a ResourceWarning in some\u001b[39;00m\n\u001b[0;32m     57\u001b[0m \u001b[38;5;66;03m# cases, and look like a memory leak in others.\u001b[39;00m\n\u001b[0;32m     58\u001b[0m \u001b[38;5;28;01mwith\u001b[39;00m sessions\u001b[38;5;241m.\u001b[39mSession() \u001b[38;5;28;01mas\u001b[39;00m session:\n\u001b[1;32m---> 59\u001b[0m     \u001b[38;5;28;01mreturn\u001b[39;00m session\u001b[38;5;241m.\u001b[39mrequest(method\u001b[38;5;241m=\u001b[39mmethod, url\u001b[38;5;241m=\u001b[39murl, \u001b[38;5;241m*\u001b[39m\u001b[38;5;241m*\u001b[39mkwargs)\n",
      "File \u001b[1;32m~\\anaconda311\\envs\\StreamlitVOL\\Lib\\site-packages\\requests\\sessions.py:575\u001b[0m, in \u001b[0;36mSession.request\u001b[1;34m(self, method, url, params, data, headers, cookies, files, auth, timeout, allow_redirects, proxies, hooks, stream, verify, cert, json)\u001b[0m\n\u001b[0;32m    562\u001b[0m \u001b[38;5;66;03m# Create the Request.\u001b[39;00m\n\u001b[0;32m    563\u001b[0m req \u001b[38;5;241m=\u001b[39m Request(\n\u001b[0;32m    564\u001b[0m     method\u001b[38;5;241m=\u001b[39mmethod\u001b[38;5;241m.\u001b[39mupper(),\n\u001b[0;32m    565\u001b[0m     url\u001b[38;5;241m=\u001b[39murl,\n\u001b[1;32m   (...)\u001b[0m\n\u001b[0;32m    573\u001b[0m     hooks\u001b[38;5;241m=\u001b[39mhooks,\n\u001b[0;32m    574\u001b[0m )\n\u001b[1;32m--> 575\u001b[0m prep \u001b[38;5;241m=\u001b[39m \u001b[38;5;28mself\u001b[39m\u001b[38;5;241m.\u001b[39mprepare_request(req)\n\u001b[0;32m    577\u001b[0m proxies \u001b[38;5;241m=\u001b[39m proxies \u001b[38;5;129;01mor\u001b[39;00m {}\n\u001b[0;32m    579\u001b[0m settings \u001b[38;5;241m=\u001b[39m \u001b[38;5;28mself\u001b[39m\u001b[38;5;241m.\u001b[39mmerge_environment_settings(\n\u001b[0;32m    580\u001b[0m     prep\u001b[38;5;241m.\u001b[39murl, proxies, stream, verify, cert\n\u001b[0;32m    581\u001b[0m )\n",
      "File \u001b[1;32m~\\anaconda311\\envs\\StreamlitVOL\\Lib\\site-packages\\requests\\sessions.py:481\u001b[0m, in \u001b[0;36mSession.prepare_request\u001b[1;34m(self, request)\u001b[0m\n\u001b[0;32m    479\u001b[0m auth \u001b[38;5;241m=\u001b[39m request\u001b[38;5;241m.\u001b[39mauth\n\u001b[0;32m    480\u001b[0m \u001b[38;5;28;01mif\u001b[39;00m \u001b[38;5;28mself\u001b[39m\u001b[38;5;241m.\u001b[39mtrust_env \u001b[38;5;129;01mand\u001b[39;00m \u001b[38;5;129;01mnot\u001b[39;00m auth \u001b[38;5;129;01mand\u001b[39;00m \u001b[38;5;129;01mnot\u001b[39;00m \u001b[38;5;28mself\u001b[39m\u001b[38;5;241m.\u001b[39mauth:\n\u001b[1;32m--> 481\u001b[0m     auth \u001b[38;5;241m=\u001b[39m get_netrc_auth(request\u001b[38;5;241m.\u001b[39murl)\n\u001b[0;32m    483\u001b[0m p \u001b[38;5;241m=\u001b[39m PreparedRequest()\n\u001b[0;32m    484\u001b[0m p\u001b[38;5;241m.\u001b[39mprepare(\n\u001b[0;32m    485\u001b[0m     method\u001b[38;5;241m=\u001b[39mrequest\u001b[38;5;241m.\u001b[39mmethod\u001b[38;5;241m.\u001b[39mupper(),\n\u001b[0;32m    486\u001b[0m     url\u001b[38;5;241m=\u001b[39mrequest\u001b[38;5;241m.\u001b[39murl,\n\u001b[1;32m   (...)\u001b[0m\n\u001b[0;32m    496\u001b[0m     hooks\u001b[38;5;241m=\u001b[39mmerge_hooks(request\u001b[38;5;241m.\u001b[39mhooks, \u001b[38;5;28mself\u001b[39m\u001b[38;5;241m.\u001b[39mhooks),\n\u001b[0;32m    497\u001b[0m )\n",
      "File \u001b[1;32m~\\anaconda311\\envs\\StreamlitVOL\\Lib\\site-packages\\requests\\utils.py:227\u001b[0m, in \u001b[0;36mget_netrc_auth\u001b[1;34m(url, raise_errors)\u001b[0m\n\u001b[0;32m    221\u001b[0m \u001b[38;5;28;01mexcept\u001b[39;00m \u001b[38;5;167;01mKeyError\u001b[39;00m:\n\u001b[0;32m    222\u001b[0m     \u001b[38;5;66;03m# os.path.expanduser can fail when $HOME is undefined and\u001b[39;00m\n\u001b[0;32m    223\u001b[0m     \u001b[38;5;66;03m# getpwuid fails. See https://bugs.python.org/issue20164 &\u001b[39;00m\n\u001b[0;32m    224\u001b[0m     \u001b[38;5;66;03m# https://github.com/psf/requests/issues/1846\u001b[39;00m\n\u001b[0;32m    225\u001b[0m     \u001b[38;5;28;01mreturn\u001b[39;00m\n\u001b[1;32m--> 227\u001b[0m \u001b[38;5;28;01mif\u001b[39;00m os\u001b[38;5;241m.\u001b[39mpath\u001b[38;5;241m.\u001b[39mexists(loc):\n\u001b[0;32m    228\u001b[0m     netrc_path \u001b[38;5;241m=\u001b[39m loc\n\u001b[0;32m    229\u001b[0m     \u001b[38;5;28;01mbreak\u001b[39;00m\n",
      "\u001b[1;31mKeyboardInterrupt\u001b[0m: "
     ]
    }
   ],
   "source": [
    "import requests\n",
    "import json\n",
    "import time\n",
    "\n",
    "#To fix error \"ImportError: No module named requests\"\n",
    "#   1. Start Command Prompt (cmd.exe)\n",
    "#   2. Enter \"py -3 -m pip install requests\"\n",
    "\n",
    "#To fix error \"ImportError: No module named json\"\n",
    "#   1. Start Command Prompt (cmd.exe)\n",
    "#   2. Enter \"py -3 -m pip install json\"\n",
    "\n",
    "while(True):\n",
    "    response = requests.get(\"http://em-nun:57080/read?item=Hitec_OPC_DA20_Server->DIAZOAN:CHILLER_01.X1\")\n",
    "\n",
    "    #parse response string(JSON) into a JSON object\n",
    "    json_object = json.loads(response.text)\n",
    "    data = json_object[\"data\"]\n",
    "\n",
    "    #each item contains the properties: ID, Value, Quality, SourceTimestamp, ServerTimestamp\n",
    "    for item in data:\n",
    "        print(item[\"ID\"] + \":\" + \" Value: \" + str(item[\"Value\"]) + \" Quality: \" + str(item[\"Quality\"]) + \" Timestamp: \" + item[\"SourceTimestamp\"])\n",
    "\n",
    "    #sleep for 1 second\n",
    "    time.sleep(1)\n"
   ]
  },
  {
   "cell_type": "code",
   "execution_count": null,
   "id": "397ebbb0-189a-4d67-b7f9-7462903ed177",
   "metadata": {},
   "outputs": [],
   "source": []
  },
  {
   "cell_type": "code",
   "execution_count": null,
   "id": "f0227def-faa7-4930-893d-36f33cec08ea",
   "metadata": {},
   "outputs": [],
   "source": []
  }
 ],
 "metadata": {
  "kernelspec": {
   "display_name": "Python 3 (ipykernel)",
   "language": "python",
   "name": "python3"
  },
  "language_info": {
   "codemirror_mode": {
    "name": "ipython",
    "version": 3
   },
   "file_extension": ".py",
   "mimetype": "text/x-python",
   "name": "python",
   "nbconvert_exporter": "python",
   "pygments_lexer": "ipython3",
   "version": "3.12.9"
  }
 },
 "nbformat": 4,
 "nbformat_minor": 5
}
